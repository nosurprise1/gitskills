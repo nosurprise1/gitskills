{
 "cells": [
  {
   "cell_type": "markdown",
   "metadata": {},
   "source": [
    "# 微信群期限测试 "
   ]
  },
  {
   "cell_type": "code",
   "execution_count": 1,
   "metadata": {},
   "outputs": [
    {
     "name": "stderr",
     "output_type": "stream",
     "text": [
      "C:\\ProgramData\\Anaconda3\\lib\\site-packages\\ipykernel\\parentpoller.py:116: UserWarning: Parent poll failed.  If the frontend dies,\n",
      "                the kernel may be left running.  Please let us know\n",
      "                about your system (bitness, Python, etc.) at\n",
      "                ipython-dev@scipy.org\n",
      "  ipython-dev@scipy.org\"\"\")\n"
     ]
    },
    {
     "name": "stdout",
     "output_type": "stream",
     "text": [
      "08-26\n",
      "Empty DataFrame\n",
      "Columns: [加权利率, 品种, 日期, 时间, 最新利率]\n",
      "Index: []\n"
     ]
    }
   ],
   "source": [
    "from selenium import webdriver\n",
    "from selenium.webdriver.chrome.options import Options\n",
    "import time\n",
    "import pandas as pd\n",
    "import re,datetime,json,time\n",
    "from pymongo import MongoClient\n",
    "import urllib\n",
    "#lianjiez=''\n",
    "chrome_options = Options()\n",
    "# 无头模式启动\n",
    "chrome_options.add_argument('--headless')\n",
    "# 谷歌文档提到需要加上这个属性来规避bug\n",
    "chrome_options.add_argument('--disable-gpu')\n",
    "client=MongoClient('mongodb://root:' + '5768116' + '@121.196.220.14')\n",
    "db = client.yinhangjian          #得到数据库\n",
    "collection = db.yinhangjian    \n",
    "cursor = collection.find()\n",
    "zixun_df= pd.DataFrame(list(cursor))\n",
    "\n",
    "zixun_df=zixun_df[['加权利率','品种','日期','时间','最新利率']]\n",
    "\n",
    "shijian=time.strftime('%m-%d',time.localtime(time.time()))\n",
    "print(shijian)\n",
    "zixun_df=zixun_df[(zixun_df['品种']==1)]\n",
    "zixun_df=zixun_df[(zixun_df['日期']==str(shijian))]\n",
    "\n",
    "\n",
    "\n",
    "print(zixun_df)"
   ]
  },
  {
   "cell_type": "code",
   "execution_count": null,
   "metadata": {},
   "outputs": [],
   "source": []
  }
 ],
 "metadata": {
  "kernelspec": {
   "display_name": "Python 3",
   "language": "python",
   "name": "python3"
  },
  "language_info": {
   "codemirror_mode": {
    "name": "ipython",
    "version": 3
   },
   "file_extension": ".py",
   "mimetype": "text/x-python",
   "name": "python",
   "nbconvert_exporter": "python",
   "pygments_lexer": "ipython3",
   "version": "3.7.0"
  },
  "toc": {
   "base_numbering": 1,
   "nav_menu": {},
   "number_sections": true,
   "sideBar": true,
   "skip_h1_title": false,
   "title_cell": "Table of Contents",
   "title_sidebar": "Contents",
   "toc_cell": false,
   "toc_position": {},
   "toc_section_display": true,
   "toc_window_display": true
  }
 },
 "nbformat": 4,
 "nbformat_minor": 2
}
