{
 "cells": [
  {
   "cell_type": "markdown",
   "metadata": {},
   "source": [
    "# zixun数据库 "
   ]
  },
  {
   "cell_type": "markdown",
   "metadata": {},
   "source": [
    "## 读取zixun数据库"
   ]
  },
  {
   "cell_type": "code",
   "execution_count": 8,
   "metadata": {},
   "outputs": [],
   "source": [
    "# -*- coding: cp936 -*-\n",
    "import datetime\n",
    "import json,csv,re\n",
    "import pandas as pd\n",
    "from pymongo import MongoClient\n",
    "import matplotlib.pyplot as plt  \n",
    "#from wordcloud import WordCloud  \n",
    "#import jieba\n",
    "#import jieba.analyse\n",
    "  \n",
    "\n",
    "\n",
    "client=MongoClient('mongodb://root:' + '5768116' + '@121.196.220.14')\n",
    "\n",
    "db = client.zixun\n",
    "collection = db.zixun\n",
    "\n",
    "#cursor = collection.find({'标题':{'$regex':'ABS'}}) \n",
    "\n",
    "#cursor = collection.find({'爬取日期':{'$gte':'2018-05-01'}})\n",
    "#cursor = collection.find({'网站':'交易云'}) \n",
    "#cursor = collection.find({'爬取日期':None})\n",
    "#cursor = collection.find({'爬取日期':'2019-05-14'})\n",
    "cursor = collection.find()\n",
    "#cursor= collection.find({'爬取日期':{'$gte':'2019-10-08'}})  \n",
    "\n",
    "zixun_df= pd.DataFrame(list(cursor))\n",
    "\n",
    "#print(zixun_df)\n",
    "\n",
    "zixun_df.to_excel('777.xls')\n",
    "\n",
    "\n",
    "\n"
   ]
  },
  {
   "cell_type": "markdown",
   "metadata": {},
   "source": [
    "## 删除zixun数据库"
   ]
  },
  {
   "cell_type": "code",
   "execution_count": 10,
   "metadata": {
    "scrolled": false
   },
   "outputs": [
    {
     "name": "stdout",
     "output_type": "stream",
     "text": [
      "已经收集的日期有：\n",
      "['2019-04-26', '2019-04-30', '2019-05-05']\n",
      "最近日期：\n",
      "2019-05-05\n",
      "上一日期：\n",
      "2019-04-30\n",
      "\n",
      "\n",
      "\n",
      "\n",
      "余额总共新增：71.88719341230001 亿元\n",
      "              客户名称     生效截至日  2019-05-05  2019-05-05变动\n",
      "0       招商银行股份有限公司  20190930       24.99         23.50\n",
      "1     中国农业银行股份有限公司  20190930       21.70          9.16\n",
      "2     中国工商银行股份有限公司  20190930       18.24          6.87\n",
      "3       中国银行股份有限公司  20190930       14.71          4.83\n",
      "4     中国石化财务有限责任公司  20190731       24.14          4.27\n",
      "5     中国建设银行股份有限公司  20190930       19.42          3.87\n",
      "6       广州银行股份有限公司  20190930        5.90          3.57\n",
      "7     中国民生银行股份有限公司  20190930        2.78          2.78\n",
      "8       浙商银行股份有限公司  20190930        9.07          2.71\n",
      "9   上海浦东发展银行股份有限公司  20190930       12.06          2.57\n",
      "10      中原银行股份有限公司  20191231        7.67          2.33\n",
      "11      平安银行股份有限公司  20190930       28.54          1.78\n",
      "12      晋城银行股份有限公司  20190831        1.70          1.69\n",
      "13      北京银行股份有限公司  20191130        4.55          1.65\n",
      "14        国投财务有限公司  20190930        9.20          1.26\n",
      "\n",
      "\n",
      "              客户名称     生效截至日  2019-05-05  2019-05-05变动\n",
      "389     昆仑银行股份有限公司  20190930        0.00         -0.22\n",
      "390     赣州银行股份有限公司  20191031        0.08         -0.31\n",
      "391    平顶山银行股份有限公司  20191130        0.20         -0.38\n",
      "392     上海银行股份有限公司  20191030        0.28         -0.42\n",
      "393    哈尔滨银行股份有限公司  20190930        0.65         -0.51\n",
      "394     齐鲁银行股份有限公司  20191031        0.06         -0.62\n",
      "395  威海市商业银行股份有限公司  20191130        0.05         -0.66\n",
      "396     盛京银行股份有限公司  20191231        0.01         -0.75\n",
      "397     宁波银行股份有限公司  20190930        0.99         -0.76\n",
      "398     桂林银行股份有限公司  20191130        0.02         -0.77\n",
      "399     洛阳银行股份有限公司  20191130        0.04         -0.92\n",
      "400   江苏苏宁银行股份有限公司  20200229        0.00         -0.93\n",
      "401     泰安银行股份有限公司  20191031        0.00         -1.31\n",
      "402     杭州银行股份有限公司  20190930        0.23         -1.79\n",
      "403     渤海银行股份有限公司  20190930        0.06         -2.48\n"
     ]
    }
   ],
   "source": [
    "# -*- coding: cp936 -*-\n",
    "import datetime\n",
    "import json,csv,re\n",
    "import pandas as pd\n",
    "from pymongo import MongoClient\n",
    "import matplotlib.pyplot as plt  \n",
    "#from wordcloud import WordCloud  \n",
    "#import jieba\n",
    "#import jieba.analyse\n",
    "  \n",
    "\n",
    "\n",
    "client=MongoClient('mongodb://root:' + '5768116' + '@121.196.220.14')\n",
    "\n",
    "db = client.zixun\n",
    "collection = db.zixun\n",
    "\n",
    "#collection.remove()\n",
    "stop\n",
    "collection.remove({ \"$and\":[{'爬取日期':{'$lte':'2019-04-20'}} ] })  #自己的文章，爬取日期为空，所以不是被删掉\n",
    "#collection.remove({'网站':{'$regex':'交易云'}}) \n"
   ]
  },
  {
   "cell_type": "markdown",
   "metadata": {},
   "source": [
    "## 从csv导入到zixun数据库"
   ]
  },
  {
   "cell_type": "code",
   "execution_count": null,
   "metadata": {},
   "outputs": [],
   "source": [
    "import datetime\n",
    "import json,csv\n",
    "import pandas as pd\n",
    "\n",
    "from pymongo import MongoClient\n",
    "client=MongoClient('mongodb://root:' + '5768116' + '@139.196.79.93')\n",
    "\n",
    "#client = MongoClient()\n",
    "#client = MongoClient('139.196.79.93', 27017)  #建立连接\n",
    "\n",
    "#db=client.authenticate(\"root\",\"5768116\",mechanism=\"SCRAM-SHA-1\").piao\n",
    "db = client.zixun           #得到数据库\n",
    "#db.authenticate(\"admin\", \"5768116\")\n",
    "collection = db.zixun      #得到数据集合\n",
    "\n",
    "\n",
    "#df = read_mongo(db, 'collection')\n",
    "#df = pd.DataFrame.from_dict({u'时间': {datetime.datetime.now()},u'交易对手':{111}})\n",
    "url='zixun.csv'\n",
    "df = pd.read_table(url,sep=',',encoding='GB18030')   #用dictreader根据行内容查找\n",
    "\n",
    "print (df)      \n",
    "#print collection\n",
    "records = json.loads(df.T.to_json()).values()\n",
    "collection.insert(records)\n",
    "\n",
    "    # Make a query to the specific DB and Collection\n",
    "cursor = collection.find()\n",
    "df2 = pd.DataFrame(list(cursor))\n",
    "print (df2)\n",
    "\n",
    "#post = {\"author\": \"Mike33\", \"text\": \"My first blog post!\",\"tags\": [\"mongodb\", \"python\", \"pymongo\"],\"date\": datetime.datetime.utcnow()}\n",
    "#posts = db.posts\n",
    "#post_id = posts.insert_one(post).inserted_id\n",
    "#print post_id\n",
    "#print posts.find_one()\n",
    "#print posts.find_one({\"author\": \"Mike33\"})\n",
    "#print posts.count()\n",
    "#print post.find()\n"
   ]
  },
  {
   "cell_type": "markdown",
   "metadata": {},
   "source": [
    "## 读取zixun_jiaoyiyun数据库"
   ]
  },
  {
   "cell_type": "code",
   "execution_count": null,
   "metadata": {},
   "outputs": [],
   "source": [
    "# -*- coding: cp936 -*-\n",
    "import datetime\n",
    "import json,csv,re\n",
    "import pandas as pd\n",
    "from pymongo import MongoClient\n",
    "import matplotlib.pyplot as plt  \n",
    "#from wordcloud import WordCloud  \n",
    "#import jieba\n",
    "#import jieba.analyse\n",
    "  \n",
    "\n",
    "\n",
    "client=MongoClient('mongodb://root:' + '5768116' + '@121.196.220.14')\n",
    "\n",
    "db = client.zixun\n",
    "collection = db.zixun\n",
    "\n",
    "#cursor = collection.find({'标题':{'$regex':'ABS'}}) \n",
    "\n",
    "#cursor = collection.find({'爬取日期':{'$gte':'2018-05-01'}})\n",
    "cursor = collection.find({'网站':'交易云'}) \n",
    "#cursor = collection.find({'爬取日期':None})\n",
    "#cursor = collection.find()\n",
    "\n",
    "zixun_df= pd.DataFrame(list(cursor))\n",
    "\n",
    "print(zixun_df)\n",
    "\n",
    "\n",
    "\n",
    "\n",
    "zixun_df.to_csv('jiaoyiyun.csv',encoding='GB18030',mode='w',header=True)\n",
    "\n",
    "#collection.remove({'爬取日期':{'$lte':'2017-12-01'}})\n",
    "\n"
   ]
  },
  {
   "cell_type": "markdown",
   "metadata": {},
   "source": [
    "## 删除zixun_jiaoyiyun数据库"
   ]
  },
  {
   "cell_type": "code",
   "execution_count": null,
   "metadata": {},
   "outputs": [],
   "source": [
    "# -*- coding: cp936 -*-\n",
    "import datetime\n",
    "import json,csv,re\n",
    "import pandas as pd\n",
    "from pymongo import MongoClient\n",
    "import matplotlib.pyplot as plt  \n",
    "#from wordcloud import WordCloud  \n",
    "#import jieba\n",
    "#import jieba.analyse\n",
    "  \n",
    "\n",
    "\n",
    "client=MongoClient('mongodb://root:' + '5768116' + '@139.196.79.93')\n",
    "\n",
    "db = client.zixun\n",
    "collection = db.zixun\n",
    "\n",
    "#collection.remove({'爬取日期':{'$lte':'2018-04-20'}})\n",
    "stop\n",
    "collection.remove({'网站':'交易云'})  #自己的文章，爬取日期为空，所以不是被删掉\n",
    "#collection.remove({'网站':{'$regex':'交易云'}}) \n"
   ]
  },
  {
   "cell_type": "markdown",
   "metadata": {},
   "source": [
    "## 从csv导入到zixun_jiaoyiyun数据库"
   ]
  },
  {
   "cell_type": "code",
   "execution_count": null,
   "metadata": {},
   "outputs": [],
   "source": [
    "import datetime\n",
    "import json,csv\n",
    "import pandas as pd\n",
    "\n",
    "from pymongo import MongoClient\n",
    "client=MongoClient('mongodb://root:' + '5768116' + '@139.196.79.93')\n",
    "\n",
    "#client = MongoClient()\n",
    "#client = MongoClient('139.196.79.93', 27017)  #建立连接\n",
    "\n",
    "#db=client.authenticate(\"root\",\"5768116\",mechanism=\"SCRAM-SHA-1\").piao\n",
    "db = client.zixun           #得到数据库\n",
    "#db.authenticate(\"admin\", \"5768116\")\n",
    "collection = db.zixun      #得到数据集合\n",
    "\n",
    "\n",
    "#df = read_mongo(db, 'collection')\n",
    "#df = pd.DataFrame.from_dict({u'时间': {datetime.datetime.now()},u'交易对手':{111}})\n",
    "url='jiaoyiyun.csv'\n",
    "df = pd.read_table(url,sep=',',encoding='GB18030')   #用dictreader根据行内容查找\n",
    "\n",
    "print (df)      \n",
    "#print collection\n",
    "records = json.loads(df.T.to_json()).values()\n",
    "collection.insert(records)\n",
    "\n",
    "    # Make a query to the specific DB and Collection\n",
    "cursor = collection.find()\n",
    "df2 = pd.DataFrame(list(cursor))\n",
    "print (df2)\n",
    "\n",
    "#post = {\"author\": \"Mike33\", \"text\": \"My first blog post!\",\"tags\": [\"mongodb\", \"python\", \"pymongo\"],\"date\": datetime.datetime.utcnow()}\n",
    "#posts = db.posts\n",
    "#post_id = posts.insert_one(post).inserted_id\n",
    "#print post_id\n",
    "#print posts.find_one()\n",
    "#print posts.find_one({\"author\": \"Mike33\"})\n",
    "#print posts.count()\n",
    "#print post.find()\n"
   ]
  },
  {
   "cell_type": "markdown",
   "metadata": {},
   "source": [
    "# pachong数据库"
   ]
  },
  {
   "cell_type": "markdown",
   "metadata": {},
   "source": [
    "##  读取pachong数据库 "
   ]
  },
  {
   "cell_type": "code",
   "execution_count": null,
   "metadata": {},
   "outputs": [],
   "source": [
    "# -*- coding: cp936 -*-\n",
    "import datetime\n",
    "import json,csv,re\n",
    "import pandas as pd\n",
    "from pymongo import MongoClient\n",
    "\n",
    "\n",
    "\n",
    "\n",
    "client = MongoClient()\n",
    "client=MongoClient('mongodb://root:' + '5768116' + '@121.196.220.14')\n",
    "#client = MongoClient('139.196.79.93', 27017)\n",
    "db = client.pachong\n",
    "collection = db.pachong\n",
    "    \n",
    "cursor = collection.find()\n",
    "df2 = pd.DataFrame(list(cursor))\n",
    "\n",
    "\n",
    "print(df2)\n",
    "\n",
    "\n"
   ]
  },
  {
   "cell_type": "markdown",
   "metadata": {},
   "source": [
    "## 删除pachong数据库"
   ]
  },
  {
   "cell_type": "code",
   "execution_count": null,
   "metadata": {},
   "outputs": [],
   "source": [
    "# -*- coding: cp936 -*-\n",
    "import datetime\n",
    "import json,csv,re\n",
    "import pandas as pd\n",
    "from pymongo import MongoClient\n",
    "\n",
    "\n",
    "\n",
    "\n",
    "client=MongoClient('mongodb://root:' + '5768116' + '@139.196.79.93')\n",
    "#client = MongoClient('139.196.79.93', 27017)\n",
    "db = client.pachong\n",
    "collection = db.pachong\n",
    "# Make a query to the specific DB and Collection\n",
    "collection.remove()\n",
    "    \n",
    "\n",
    "\n"
   ]
  },
  {
   "cell_type": "markdown",
   "metadata": {},
   "source": [
    "## 从csv导入到pachong数据库 "
   ]
  },
  {
   "cell_type": "code",
   "execution_count": null,
   "metadata": {},
   "outputs": [],
   "source": [
    "import datetime\n",
    "import json,csv\n",
    "import pandas as pd\n",
    "\n",
    "from pymongo import MongoClient\n",
    "client=MongoClient('mongodb://root:' + '5768116' + '@121.196.220.14')\n",
    "\n",
    "db = client.pachong           #得到数据库\n",
    "\n",
    "collection = db.pachong      #得到数据集合\n",
    "\n",
    "\n",
    "url='pachong.csv'\n",
    "df = pd.read_table(url,sep=',',encoding='GB18030')   #用dictreader根据行内容查找\n",
    "\n",
    "print (df)      \n",
    "#print collection\n",
    "records = json.loads(df.T.to_json()).values()\n",
    "collection.insert(records)\n",
    "\n",
    "    # Make a query to the specific DB and Collection\n",
    "cursor = collection.find()\n",
    "df2 = pd.DataFrame(list(cursor))\n",
    "print (df2)\n",
    "\n"
   ]
  },
  {
   "cell_type": "markdown",
   "metadata": {},
   "source": [
    "# pachong_guo数据库"
   ]
  },
  {
   "cell_type": "markdown",
   "metadata": {},
   "source": [
    "## 读取pachong_guo数据库"
   ]
  },
  {
   "cell_type": "code",
   "execution_count": null,
   "metadata": {},
   "outputs": [],
   "source": [
    "# -*- coding: cp936 -*-\n",
    "import datetime\n",
    "import json,csv,re\n",
    "import pandas as pd\n",
    "from pymongo import MongoClient\n",
    "\n",
    "\n",
    "\n",
    "\n",
    "client = MongoClient()\n",
    "client=MongoClient('mongodb://root:' + '5768116' + '@121.196.220.14')\n",
    "#client = MongoClient('139.196.79.93', 27017)\n",
    "db = client.pachong_guo\n",
    "collection = db.pachong_guo\n",
    "    \n",
    "cursor = collection.find()\n",
    "df2 = pd.DataFrame(list(cursor))\n",
    "\n",
    "\n",
    "print(df2)\n",
    "\n",
    "\n"
   ]
  },
  {
   "cell_type": "markdown",
   "metadata": {},
   "source": [
    "## 删除pachong_guo数据库"
   ]
  },
  {
   "cell_type": "code",
   "execution_count": null,
   "metadata": {},
   "outputs": [],
   "source": [
    "# -*- coding: cp936 -*-\n",
    "import datetime\n",
    "import json,csv,re\n",
    "import pandas as pd\n",
    "from pymongo import MongoClient\n",
    "\n",
    "\n",
    "\n",
    "\n",
    "client=MongoClient('mongodb://root:' + '5768116' + '@139.196.79.93')\n",
    "#client = MongoClient('139.196.79.93', 27017)\n",
    "db = client.pachong_guo\n",
    "collection = db.pachong_guo\n",
    "# Make a query to the specific DB and Collection\n",
    "collection.remove()\n",
    "    \n",
    "\n",
    "\n"
   ]
  },
  {
   "cell_type": "markdown",
   "metadata": {},
   "source": [
    "## 从csv导入到pachong_guo数据库"
   ]
  },
  {
   "cell_type": "code",
   "execution_count": null,
   "metadata": {},
   "outputs": [],
   "source": [
    "import datetime\n",
    "import json,csv\n",
    "import pandas as pd\n",
    "\n",
    "from pymongo import MongoClient\n",
    "client=MongoClient('mongodb://root:' + '5768116' + '@121.196.220.14')\n",
    "\n",
    "db = client.pachong_guo          #得到数据库\n",
    "\n",
    "collection = db.pachong_guo      #得到数据集合\n",
    "\n",
    "\n",
    "url='pachong-guo.csv'\n",
    "df = pd.read_table(url,sep=',',encoding='GB18030')   #用dictreader根据行内容查找\n",
    "\n",
    "print (df)      \n",
    "#print collection\n",
    "records = json.loads(df.T.to_json()).values()\n",
    "collection.insert(records)\n",
    "\n",
    "    # Make a query to the specific DB and Collection\n",
    "cursor = collection.find()\n",
    "df2 = pd.DataFrame(list(cursor))\n",
    "print (df2)\n",
    "\n"
   ]
  }
 ],
 "metadata": {
  "kernelspec": {
   "display_name": "Python 3",
   "language": "python",
   "name": "python3"
  },
  "language_info": {
   "codemirror_mode": {
    "name": "ipython",
    "version": 3
   },
   "file_extension": ".py",
   "mimetype": "text/x-python",
   "name": "python",
   "nbconvert_exporter": "python",
   "pygments_lexer": "ipython3",
   "version": "3.7.0"
  },
  "toc": {
   "base_numbering": 1,
   "nav_menu": {},
   "number_sections": true,
   "sideBar": true,
   "skip_h1_title": false,
   "title_cell": "Table of Contents",
   "title_sidebar": "Contents",
   "toc_cell": false,
   "toc_position": {
    "height": "calc(100% - 180px)",
    "left": "10px",
    "top": "150px",
    "width": "248px"
   },
   "toc_section_display": true,
   "toc_window_display": true
  }
 },
 "nbformat": 4,
 "nbformat_minor": 2
}
