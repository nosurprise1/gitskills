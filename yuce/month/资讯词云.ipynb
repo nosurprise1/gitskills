{
 "cells": [
  {
   "cell_type": "markdown",
   "metadata": {},
   "source": [
    "# 微信群广告词云"
   ]
  },
  {
   "cell_type": "code",
   "execution_count": 1,
   "metadata": {
    "scrolled": true
   },
   "outputs": [
    {
     "ename": "ModuleNotFoundError",
     "evalue": "No module named 'jieba'",
     "output_type": "error",
     "traceback": [
      "\u001b[1;31m---------------------------------------------------------------------------\u001b[0m",
      "\u001b[1;31mModuleNotFoundError\u001b[0m                       Traceback (most recent call last)",
      "\u001b[1;32m<ipython-input-1-64bd9cab5f4c>\u001b[0m in \u001b[0;36m<module>\u001b[1;34m()\u001b[0m\n\u001b[0;32m      9\u001b[0m \u001b[0mfont_set2\u001b[0m \u001b[1;33m=\u001b[0m \u001b[0mFontProperties\u001b[0m\u001b[1;33m(\u001b[0m\u001b[0mfname\u001b[0m\u001b[1;33m=\u001b[0m\u001b[1;34mr\"c:\\windows\\fonts\\simsun.ttc\"\u001b[0m\u001b[1;33m,\u001b[0m \u001b[0msize\u001b[0m\u001b[1;33m=\u001b[0m\u001b[1;36m15\u001b[0m\u001b[1;33m)\u001b[0m \u001b[1;31m#用于在散点图中输出中文\u001b[0m\u001b[1;33m\u001b[0m\u001b[0m\n\u001b[0;32m     10\u001b[0m \u001b[1;33m\u001b[0m\u001b[0m\n\u001b[1;32m---> 11\u001b[1;33m \u001b[1;32mimport\u001b[0m \u001b[0mjieba\u001b[0m\u001b[1;33m,\u001b[0m\u001b[0mos\u001b[0m\u001b[1;33m,\u001b[0m\u001b[0mcodecs\u001b[0m\u001b[1;33m\u001b[0m\u001b[0m\n\u001b[0m\u001b[0;32m     12\u001b[0m \u001b[1;32mimport\u001b[0m \u001b[0mjieba\u001b[0m\u001b[1;33m.\u001b[0m\u001b[0manalyse\u001b[0m\u001b[1;33m\u001b[0m\u001b[0m\n\u001b[0;32m     13\u001b[0m \u001b[1;32mimport\u001b[0m \u001b[0mjson\u001b[0m\u001b[1;33m,\u001b[0m\u001b[0mcsv\u001b[0m\u001b[1;33m,\u001b[0m\u001b[0mre\u001b[0m\u001b[1;33m,\u001b[0m\u001b[0mtime\u001b[0m\u001b[1;33m,\u001b[0m\u001b[0mdatetime\u001b[0m\u001b[1;33m\u001b[0m\u001b[0m\n",
      "\u001b[1;31mModuleNotFoundError\u001b[0m: No module named 'jieba'"
     ]
    }
   ],
   "source": [
    "# -*- coding: cp936 -*-\n",
    "import pandas as pd\n",
    "\n",
    "import matplotlib.pyplot as plt\n",
    "from PIL import Image\n",
    "import numpy as np\n",
    "from collections import Counter\n",
    "from matplotlib.font_manager import FontProperties  \n",
    "font_set2 = FontProperties(fname=r\"c:\\windows\\fonts\\simsun.ttc\", size=15) #用于在散点图中输出中文\n",
    "\n",
    "import jieba,os,codecs\n",
    "import jieba.analyse\n",
    "import json,csv,re,time,datetime\n",
    "from pymongo import MongoClient\n",
    "from wordcloud import WordCloud\n",
    "from PIL import Image\n",
    "from PIL import ImageChops\n",
    "import matplotlib as mpl   #显示中文\n",
    "#abel_mask = np.array(Image.open(\"1.jpg\"))   #使用云图范本\n",
    "\n",
    "\n",
    "    \n",
    "shijian=time.strftime('%Y-%m-%d',time.localtime(time.time()))\n",
    "import datetime\n",
    "shijian = datetime.datetime.strptime(shijian, \"%Y-%m-%d\")\n",
    "\n",
    "jin=input('    请输入当日日期,输入格式为“2017-01-01”，不输入默认为今天:')\n",
    "if jin!='':\n",
    "        shijian0=jin\n",
    "        shijian=datetime.datetime.strptime(jin , \"%Y-%m-%d\")\n",
    "\n",
    "shijian=str(shijian.strftime(\"%Y-%m-%d\"))\n",
    "print(shijian)\n",
    "\n",
    "\n",
    "jieba.del_word(\"银行\")\n",
    "jieba.del_word(\"亿元\")\n",
    "\n",
    "#jieba.add_word(\"[\\u4e00-\\u9fa5]{2,4}?银行\")\n",
    "\n",
    "\n",
    "\n",
    "client=MongoClient('mongodb://root:' + '5768116' + '@121.196.220.14')\n",
    "db = client.zixun\n",
    "collection = db.zixun\n",
    "\n",
    "\n",
    "#一、中介卖票\n",
    "cursor = collection.find({'爬取日期':{'$gte':'2019-06-01'}})#\n",
    "df = pd.DataFrame(list(cursor))\n",
    "print(df)\n",
    "df=df.drop_duplicates(['标题'],keep='last')   #删除连接中的重复行\n",
    "df=df[['标题']]\n",
    "a=len(df)\n",
    "\n",
    "df= df.reset_index(drop=True)    #重新定义索引\n",
    "zixun=''\n",
    "\n",
    "\n",
    "for i in range(0,a):\n",
    "\n",
    "          zixun=zixun+df.loc[i,'标题']\n",
    "print(zixun)\n",
    "\n",
    "#seg_list =jieba.cut(zixun, cut_all=True)  #分为全模式和精确模式\n",
    "tags = jieba.analyse.extract_tags(zixun, topK=200)   #没法加word\n",
    "#print(tags)\n",
    "\n",
    "seg_list = \" \".join(tags)\n",
    "print(seg_list)\n",
    "\n",
    "wc2= WordCloud(\n",
    "       background_color=\"white\",\n",
    "       width=900,\n",
    "       height=400,\n",
    "       font_path=\"C:\\\\Windows\\\\Fonts\\\\msyh.ttc\",#不加这一句显示口字形乱码\n",
    "       margin=2).generate(seg_list)\n",
    "\n",
    "plt.imshow(wc2)\n",
    "\n",
    "plt.axis(\"off\")\n",
    "plt.title('一周金融资讯关键词',fontproperties=font_set2)\n",
    "\n",
    "fig =plt.gcf()\n",
    "fig.set_size_inches(9, 4)\n",
    "fig.savefig('资讯词云.png') \n",
    "\n",
    "\n",
    "\n"
   ]
  },
  {
   "cell_type": "code",
   "execution_count": null,
   "metadata": {},
   "outputs": [],
   "source": []
  }
 ],
 "metadata": {
  "kernelspec": {
   "display_name": "Python 3",
   "language": "python",
   "name": "python3"
  },
  "language_info": {
   "codemirror_mode": {
    "name": "ipython",
    "version": 3
   },
   "file_extension": ".py",
   "mimetype": "text/x-python",
   "name": "python",
   "nbconvert_exporter": "python",
   "pygments_lexer": "ipython3",
   "version": "3.7.0"
  },
  "toc": {
   "base_numbering": 1,
   "nav_menu": {},
   "number_sections": true,
   "sideBar": true,
   "skip_h1_title": false,
   "title_cell": "Table of Contents",
   "title_sidebar": "Contents",
   "toc_cell": false,
   "toc_position": {},
   "toc_section_display": true,
   "toc_window_display": true
  }
 },
 "nbformat": 4,
 "nbformat_minor": 2
}
