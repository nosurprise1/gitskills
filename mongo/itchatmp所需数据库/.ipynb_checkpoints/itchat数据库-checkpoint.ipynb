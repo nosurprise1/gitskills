{
 "cells": [
  {
   "cell_type": "markdown",
   "metadata": {},
   "source": [
    "# shan（判断票据中介）数据库 "
   ]
  },
  {
   "cell_type": "markdown",
   "metadata": {},
   "source": [
    "## 读取"
   ]
  },
  {
   "cell_type": "code",
   "execution_count": 1,
   "metadata": {},
   "outputs": [
    {
     "name": "stdout",
     "output_type": "stream",
     "text": [
      "    xuhao                  yinhang fenlei1  fenlei2  fenlei3  过滤\n",
      "0     117                       工行      工行        1        2   2\n",
      "1     118                       工票      工行        1        2   2\n",
      "2     119                       工商      工行        1        2   2\n",
      "3     120                       建行      建行        1        2   2\n",
      "4     121                     建设银行      建行        1        2   2\n",
      "5     122                       交行      交行        1        2   2\n",
      "6     123                     交通银行      交行        1        2   2\n",
      "7     124                       农行      农行        1        2   2\n",
      "8     125                     农业银行      农行        1        2   2\n",
      "9     126                     中国银行      中行        1        2   2\n",
      "10    127                       中行      中行        1        2   2\n",
      "11    128                       广发      广发        1        3   2\n",
      "12    129                       民生      民生        1        3   2\n",
      "13    130                       平安      平安        1        3   2\n",
      "14    131                       招行      招行        1        3   2\n",
      "15    132                       招商      招行        1        3   2\n",
      "16    133                       光大      光大        1        4   2\n",
      "17    134                       华夏      华夏        1        4   2\n",
      "18    135                       浦发      浦发        1        4   2\n",
      "19    136                       兴业      兴业        1        4   2\n",
      "20    137                       浙商      浙商        1        4   2\n",
      "21    138                       中信      中信        1        4   2\n",
      "22    139                       邮储      邮储        1        2   2\n",
      "23    140                     邮政储蓄      邮储        1        2   2\n",
      "24    141                       联社      农商        1        6   2\n",
      "25    142                       村镇      农商        1        6   2\n",
      "26    143                       农商      农商        1        6   2\n",
      "27    144                       上银      城商        1        5   2\n",
      "28    145                       徽商      城商        1        5   2\n",
      "29    146  [\\u4e00-\\u9fa5]{2,4}?银行      城商        1        5   2\n"
     ]
    }
   ],
   "source": [
    "# -*- coding: cp936 -*-\n",
    "import datetime\n",
    "import json,csv,re\n",
    "import pandas as pd\n",
    "from pymongo import MongoClient\n",
    "\n",
    "client=MongoClient('mongodb://root:' + '5768116' + '@121.196.220.14')\n",
    "#client = MongoClient('139.196.79.93', 27017)\n",
    "\n",
    "db2 = client.shan\n",
    "collection2 = db2.shan   \n",
    "cursor2 = collection2.find()\n",
    "shan_df = pd.DataFrame(list(cursor2))\n",
    "shan_df=shan_df[['xuhao','yinhang','fenlei1','fenlei2','fenlei3','过滤']]\n",
    "shan_df1=shan_df[shan_df['过滤']>=1]\n",
    "shan_df1= shan_df1.reset_index(drop=True)    #重新定义索引\n",
    "shan_df2=shan_df[shan_df['过滤']>=2]\n",
    "shan_df2= shan_df2.reset_index(drop=True)    #重新定义索引\n",
    "print(shan_df2)\n"
   ]
  },
  {
   "cell_type": "markdown",
   "metadata": {},
   "source": [
    "## 从csv文件导入"
   ]
  },
  {
   "cell_type": "code",
   "execution_count": null,
   "metadata": {},
   "outputs": [],
   "source": [
    "# -*- coding: cp936 -*-\n",
    "import datetime\n",
    "import json,csv\n",
    "import pandas as pd\n",
    "\n",
    "from pymongo import MongoClient\n",
    "client=MongoClient('mongodb://root:' + '5768116' + '@121.196.220.14')\n",
    "db = client.shan          #得到数据库\n",
    "collection = db.shan      #得到数据集合\n",
    "\n",
    "\n",
    "#df = read_mongo(db, 'collection')\n",
    "#df = pd.DataFrame.from_dict({u'时间': {datetime.datetime.now()},u'交易对手':{111}})\n",
    "url='shan.csv'\n",
    "df = pd.read_table(url,sep=',',encoding='GB18030')   #用dictreader根据行内容查找\n",
    "\n",
    "#print collection\n",
    "records = json.loads(df.T.to_json()).values()\n",
    "collection.insert(records)\n",
    "\n",
    "    # Make a query to the specific DB and Collection\n",
    "cursor = collection.find()\n",
    "df2 = pd.DataFrame(list(cursor))\n",
    "print(df2)\n"
   ]
  },
  {
   "cell_type": "markdown",
   "metadata": {},
   "source": [
    "## 删除数据库 "
   ]
  },
  {
   "cell_type": "code",
   "execution_count": null,
   "metadata": {},
   "outputs": [],
   "source": [
    "# -*- coding: cp936 -*-\n",
    "import json,csv,re,time,datetime\n",
    "import pandas as pd\n",
    "from pymongo import MongoClient\n",
    "\n",
    "client=MongoClient('mongodb://root:' + '5768116' + '@121.196.220.14')\n",
    "db = client.shan\n",
    "collection = db.shan\n",
    "\n",
    "stop\n",
    "collection.remove()"
   ]
  },
  {
   "cell_type": "markdown",
   "metadata": {},
   "source": [
    "# nickname（微信昵称分类）数据库"
   ]
  },
  {
   "cell_type": "markdown",
   "metadata": {},
   "source": [
    "## 读取 "
   ]
  },
  {
   "cell_type": "code",
   "execution_count": null,
   "metadata": {},
   "outputs": [],
   "source": [
    "# -*- coding: cp936 -*-\n",
    "import json,csv,re,time,datetime\n",
    "import pandas as pd\n",
    "from pymongo import MongoClient\n",
    "\n",
    "client=MongoClient('mongodb://root:' + '5768116' + '@121.196.220.14')\n",
    "db = client.nickname\n",
    "collection = db.nickname\n",
    "\n",
    "cursor = collection.find()\n",
    "nickname_df = pd.DataFrame(list(cursor))\n",
    "nickname_df.to_csv('nickname2.csv')\n"
   ]
  },
  {
   "cell_type": "markdown",
   "metadata": {},
   "source": [
    "## 从csv文件导入 "
   ]
  },
  {
   "cell_type": "code",
   "execution_count": null,
   "metadata": {},
   "outputs": [],
   "source": [
    "# -*- coding: cp936 -*-\n",
    "import datetime\n",
    "import json,csv\n",
    "import pandas as pd\n",
    "\n",
    "from pymongo import MongoClient\n",
    "client=MongoClient('mongodb://root:' + '5768116' + '@121.196.220.14')\n",
    "db = client.nickname          #得到数据库\n",
    "collection = db.nickname      #得到数据集合\n",
    "\n",
    "\n",
    "#df = read_mongo(db, 'collection')\n",
    "#df = pd.DataFrame.from_dict({u'时间': {datetime.datetime.now()},u'交易对手':{111}})\n",
    "url='nickname.csv'\n",
    "df = pd.read_table(url,sep=',',encoding='GB18030')   #用dictreader根据行内容查找\n",
    "\n",
    "print(df)      \n",
    "#print collection\n",
    "records = json.loads(df.T.to_json()).values()\n",
    "collection.insert(records)\n",
    "\n",
    "    # Make a query to the specific DB and Collection\n",
    "cursor = collection.find()\n",
    "df2 = pd.DataFrame(list(cursor))\n",
    "print(df2)\n"
   ]
  },
  {
   "cell_type": "markdown",
   "metadata": {},
   "source": [
    "## 删除数据库"
   ]
  },
  {
   "cell_type": "code",
   "execution_count": null,
   "metadata": {},
   "outputs": [],
   "source": [
    "# -*- coding: cp936 -*-\n",
    "import json,csv,re,time,datetime\n",
    "import pandas as pd\n",
    "from pymongo import MongoClient\n",
    "\n",
    "client=MongoClient('mongodb://root:' + '5768116' + '@121.196.220.14')\n",
    "db = client.nickname\n",
    "collection = db.nickname\n",
    "stop\n",
    "collection.remove()\n"
   ]
  },
  {
   "cell_type": "markdown",
   "metadata": {},
   "source": [
    "# cun（判断存单业务）数据库 "
   ]
  },
  {
   "cell_type": "markdown",
   "metadata": {},
   "source": [
    "## 读取"
   ]
  },
  {
   "cell_type": "code",
   "execution_count": null,
   "metadata": {},
   "outputs": [],
   "source": [
    "# -*- coding: cp936 -*-\n",
    "import datetime\n",
    "import json,csv,re\n",
    "import pandas as pd\n",
    "from pymongo import MongoClient\n",
    "\n",
    "\n",
    "\n",
    "\n",
    "client=MongoClient('mongodb://root:' + '5768116' + '@121.196.220.14')\n",
    "db = client.cun\n",
    "collection = db.cun\n",
    "    # Make a query to the specific DB and Collection\n",
    "cursor = collection.find()\n",
    "df2 = pd.DataFrame(list(cursor))\n",
    "print(df2)\n",
    "stop\n",
    "piao_df=df2[['xuhao','ci','shoucun','chucun']]\n",
    "piao_df=piao_df.set_index('xuhao')\n",
    "piao_df=piao_df.sort_index(ascending=True)\n",
    "#print (piao_df.astype(str).ix[1,['ci']].strip().decode('GB18030'))\n",
    "print(len(piao_df))\n",
    "print(piao_df)\n",
    "\n"
   ]
  },
  {
   "cell_type": "markdown",
   "metadata": {},
   "source": [
    "## 从CSV导入"
   ]
  },
  {
   "cell_type": "code",
   "execution_count": null,
   "metadata": {},
   "outputs": [],
   "source": [
    "# -*- coding: cp936 -*-\n",
    "import datetime\n",
    "import json,csv\n",
    "import pandas as pd\n",
    "\n",
    "from pymongo import MongoClient\n",
    "#client = MongoClient()\n",
    "client=MongoClient('mongodb://root:' + '5768116' + '@139.196.79.93')\n",
    "#client = MongoClient('139.196.79.93', 27017)  #建立连接\n",
    "db = client.cun           #得到数据库\n",
    "collection = db.cun      #得到数据集合\n",
    "\n",
    "\n",
    "#df = read_mongo(db, 'collection')\n",
    "#df = pd.DataFrame.from_dict({u'时间': {datetime.datetime.now()},u'交易对手':{111}})\n",
    "url='cun.csv'\n",
    "df = pd.read_table(url,sep=',',encoding='GB18030')   #用dictreader根据行内容查找\n",
    "\n",
    "print (df)      \n",
    "#print collection\n",
    "records = json.loads(df.T.to_json()).values()\n",
    "collection.insert(records)\n",
    "\n",
    "    # Make a query to the specific DB and Collection\n",
    "cursor = collection.find()\n",
    "df2 = pd.DataFrame(list(cursor))\n",
    "print (df2)\n",
    "\n"
   ]
  },
  {
   "cell_type": "markdown",
   "metadata": {},
   "source": [
    "# fu（判断福费廷）数据库"
   ]
  },
  {
   "cell_type": "markdown",
   "metadata": {},
   "source": [
    "## 读取 "
   ]
  },
  {
   "cell_type": "code",
   "execution_count": 1,
   "metadata": {},
   "outputs": [
    {
     "ename": "ConnectionFailure",
     "evalue": "could not connect to localhost:27017: [WinError 10061] 由于目标计算机积极拒绝，无法连接。",
     "output_type": "error",
     "traceback": [
      "\u001b[1;31m---------------------------------------------------------------------------\u001b[0m",
      "\u001b[1;31mAutoReconnect\u001b[0m                             Traceback (most recent call last)",
      "\u001b[1;32mC:\\ProgramData\\Anaconda3\\lib\\site-packages\\pymongo\\mongo_client.py\u001b[0m in \u001b[0;36m__init__\u001b[1;34m(self, host, port, max_pool_size, document_class, tz_aware, _connect, **kwargs)\u001b[0m\n\u001b[0;32m    348\u001b[0m             \u001b[1;32mtry\u001b[0m\u001b[1;33m:\u001b[0m\u001b[1;33m\u001b[0m\u001b[0m\n\u001b[1;32m--> 349\u001b[1;33m                 \u001b[0mself\u001b[0m\u001b[1;33m.\u001b[0m\u001b[0m__find_node\u001b[0m\u001b[1;33m(\u001b[0m\u001b[0mseeds\u001b[0m\u001b[1;33m)\u001b[0m\u001b[1;33m\u001b[0m\u001b[0m\n\u001b[0m\u001b[0;32m    350\u001b[0m             \u001b[1;32mexcept\u001b[0m \u001b[0mAutoReconnect\u001b[0m \u001b[1;32mas\u001b[0m \u001b[0me\u001b[0m\u001b[1;33m:\u001b[0m\u001b[1;33m\u001b[0m\u001b[0m\n",
      "\u001b[1;32mC:\\ProgramData\\Anaconda3\\lib\\site-packages\\pymongo\\mongo_client.py\u001b[0m in \u001b[0;36m__find_node\u001b[1;34m(self, seeds)\u001b[0m\n\u001b[0;32m    749\u001b[0m         \u001b[0mself\u001b[0m\u001b[1;33m.\u001b[0m\u001b[0mdisconnect\u001b[0m\u001b[1;33m(\u001b[0m\u001b[1;33m)\u001b[0m\u001b[1;33m\u001b[0m\u001b[0m\n\u001b[1;32m--> 750\u001b[1;33m         \u001b[1;32mraise\u001b[0m \u001b[0mAutoReconnect\u001b[0m\u001b[1;33m(\u001b[0m\u001b[1;34m', '\u001b[0m\u001b[1;33m.\u001b[0m\u001b[0mjoin\u001b[0m\u001b[1;33m(\u001b[0m\u001b[0merrors\u001b[0m\u001b[1;33m)\u001b[0m\u001b[1;33m)\u001b[0m\u001b[1;33m\u001b[0m\u001b[0m\n\u001b[0m\u001b[0;32m    751\u001b[0m \u001b[1;33m\u001b[0m\u001b[0m\n",
      "\u001b[1;31mAutoReconnect\u001b[0m: could not connect to localhost:27017: [WinError 10061] 由于目标计算机积极拒绝，无法连接。",
      "\nDuring handling of the above exception, another exception occurred:\n",
      "\u001b[1;31mConnectionFailure\u001b[0m                         Traceback (most recent call last)",
      "\u001b[1;32m<ipython-input-1-702df1791ebe>\u001b[0m in \u001b[0;36m<module>\u001b[1;34m()\u001b[0m\n\u001b[0;32m      8\u001b[0m \u001b[1;33m\u001b[0m\u001b[0m\n\u001b[0;32m      9\u001b[0m \u001b[1;33m\u001b[0m\u001b[0m\n\u001b[1;32m---> 10\u001b[1;33m \u001b[0mclient\u001b[0m \u001b[1;33m=\u001b[0m \u001b[0mMongoClient\u001b[0m\u001b[1;33m(\u001b[0m\u001b[1;33m)\u001b[0m\u001b[1;33m\u001b[0m\u001b[0m\n\u001b[0m\u001b[0;32m     11\u001b[0m \u001b[0mclient\u001b[0m\u001b[1;33m=\u001b[0m\u001b[0mMongoClient\u001b[0m\u001b[1;33m(\u001b[0m\u001b[1;34m'mongodb://root:'\u001b[0m \u001b[1;33m+\u001b[0m \u001b[1;34m'5768116'\u001b[0m \u001b[1;33m+\u001b[0m \u001b[1;34m'@139.196.79.93'\u001b[0m\u001b[1;33m)\u001b[0m\u001b[1;33m\u001b[0m\u001b[0m\n\u001b[0;32m     12\u001b[0m \u001b[1;31m#client = MongoClient('139.196.79.93', 27017)\u001b[0m\u001b[1;33m\u001b[0m\u001b[1;33m\u001b[0m\u001b[0m\n",
      "\u001b[1;32mC:\\ProgramData\\Anaconda3\\lib\\site-packages\\pymongo\\mongo_client.py\u001b[0m in \u001b[0;36m__init__\u001b[1;34m(self, host, port, max_pool_size, document_class, tz_aware, _connect, **kwargs)\u001b[0m\n\u001b[0;32m    350\u001b[0m             \u001b[1;32mexcept\u001b[0m \u001b[0mAutoReconnect\u001b[0m \u001b[1;32mas\u001b[0m \u001b[0me\u001b[0m\u001b[1;33m:\u001b[0m\u001b[1;33m\u001b[0m\u001b[0m\n\u001b[0;32m    351\u001b[0m                 \u001b[1;31m# ConnectionFailure makes more sense here than AutoReconnect\u001b[0m\u001b[1;33m\u001b[0m\u001b[1;33m\u001b[0m\u001b[0m\n\u001b[1;32m--> 352\u001b[1;33m                 \u001b[1;32mraise\u001b[0m \u001b[0mConnectionFailure\u001b[0m\u001b[1;33m(\u001b[0m\u001b[0mstr\u001b[0m\u001b[1;33m(\u001b[0m\u001b[0me\u001b[0m\u001b[1;33m)\u001b[0m\u001b[1;33m)\u001b[0m\u001b[1;33m\u001b[0m\u001b[0m\n\u001b[0m\u001b[0;32m    353\u001b[0m \u001b[1;33m\u001b[0m\u001b[0m\n\u001b[0;32m    354\u001b[0m         \u001b[1;32mif\u001b[0m \u001b[0musername\u001b[0m\u001b[1;33m:\u001b[0m\u001b[1;33m\u001b[0m\u001b[0m\n",
      "\u001b[1;31mConnectionFailure\u001b[0m: could not connect to localhost:27017: [WinError 10061] 由于目标计算机积极拒绝，无法连接。"
     ]
    }
   ],
   "source": [
    "# -*- coding: cp936 -*-\n",
    "import datetime\n",
    "import json,csv,re\n",
    "import pandas as pd\n",
    "from pymongo import MongoClient\n",
    "\n",
    "\n",
    "\n",
    "\n",
    "client = MongoClient()\n",
    "client=MongoClient('mongodb://root:' + '5768116' + '@139.196.79.93')\n",
    "#client = MongoClient('139.196.79.93', 27017)\n",
    "db = client.fu\n",
    "collection = db.fu\n",
    "    # Make a query to the specific DB and Collection\n",
    "cursor = collection.find()\n",
    "df2 = pd.DataFrame(list(cursor))\n",
    "piao_df=df2[['xuhao','ci','shoufu','chufu']]\n",
    "piao_df=piao_df.set_index('xuhao')\n",
    "piao_df=piao_df.sort_index(ascending=True)\n",
    "#print (piao_df.astype(str).ix[1,['ci']].strip().decode('GB18030'))\n",
    "\n",
    "print(len(piao_df))\n",
    "\n"
   ]
  },
  {
   "cell_type": "markdown",
   "metadata": {},
   "source": [
    "## 从csv导入"
   ]
  },
  {
   "cell_type": "code",
   "execution_count": null,
   "metadata": {},
   "outputs": [],
   "source": [
    "# -*- coding: cp936 -*-\n",
    "import datetime\n",
    "import json,csv\n",
    "import pandas as pd\n",
    "\n",
    "from pymongo import MongoClient\n",
    "#client = MongoClient()\n",
    "client=MongoClient('mongodb://root:' + '5768116' + '@139.196.79.93')\n",
    "#client = MongoClient('139.196.79.93', 27017)  #建立连接\n",
    "db = client.fu           #得到数据库\n",
    "collection = db.fu      #得到数据集合\n",
    "\n",
    "\n",
    "#df = read_mongo(db, 'collection')\n",
    "#df = pd.DataFrame.from_dict({u'时间': {datetime.datetime.now()},u'交易对手':{111}})\n",
    "url='fu.csv'\n",
    "df = pd.read_table(url,sep=',',encoding='GB18030')   #用dictreader根据行内容查找\n",
    "\n",
    "print (df)      \n",
    "#print collection\n",
    "records = json.loads(df.T.to_json()).values()\n",
    "collection.insert(records)\n",
    "\n",
    "    # Make a query to the specific DB and Collection\n",
    "cursor = collection.find()\n",
    "df2 = pd.DataFrame(list(cursor))\n",
    "print (df2)\n",
    "\n"
   ]
  },
  {
   "cell_type": "markdown",
   "metadata": {},
   "source": [
    "# li（判断理财）数据库 "
   ]
  },
  {
   "cell_type": "markdown",
   "metadata": {},
   "source": [
    "## 读取"
   ]
  },
  {
   "cell_type": "code",
   "execution_count": null,
   "metadata": {},
   "outputs": [],
   "source": [
    "# -*- coding: cp936 -*-\n",
    "import datetime\n",
    "import json,csv,re\n",
    "import pandas as pd\n",
    "from pymongo import MongoClient\n",
    "\n",
    "\n",
    "\n",
    "\n",
    "client = MongoClient()\n",
    "client=MongoClient('mongodb://root:' + '5768116' + '@139.196.79.93')\n",
    "#client = MongoClient('139.196.79.93', 27017)\n",
    "db = client.li\n",
    "collection = db.li\n",
    "    # Make a query to the specific DB and Collection\n",
    "cursor = collection.find()\n",
    "df2 = pd.DataFrame(list(cursor))\n",
    "piao_df=df2[['xuhao','ci','shouli','chuli']]\n",
    "piao_df=piao_df.set_index('xuhao')\n",
    "piao_df=piao_df.sort_index(ascending=True)\n",
    "#print (piao_df.astype(str).ix[1,['ci']].strip().decode('GB18030'))\n",
    "\n",
    "print(piao_df)\n",
    "\n",
    "\n"
   ]
  },
  {
   "cell_type": "markdown",
   "metadata": {},
   "source": [
    "## 从CSV导入 "
   ]
  },
  {
   "cell_type": "code",
   "execution_count": null,
   "metadata": {},
   "outputs": [],
   "source": [
    "# -*- coding: cp936 -*-\n",
    "import datetime\n",
    "import json,csv\n",
    "import pandas as pd\n",
    "\n",
    "from pymongo import MongoClient\n",
    "\n",
    "#client = MongoClient()\n",
    "client=MongoClient('mongodb://root:' + '5768116' + '@139.196.79.93')\n",
    "#client = MongoClient('139.196.79.93', 27017)  #建立连接\n",
    "db = client.li             #得到数据库\n",
    "collection = db.li      #得到数据集合\n",
    "\n",
    "\n",
    "#df = read_mongo(db, 'collection')\n",
    "#df = pd.DataFrame.from_dict({u'时间': {datetime.datetime.now()},u'交易对手':{111}})\n",
    "url='li.csv'\n",
    "df = pd.read_table(url,sep=',',encoding='GB18030')   #用dictreader根据行内容查找\n",
    "\n",
    "print (df)      \n",
    "#print collection\n",
    "records = json.loads(df.T.to_json()).values()\n",
    "collection.insert(records)\n",
    "\n",
    "    # Make a query to the specific DB and Collection\n",
    "cursor = collection.find()\n",
    "df2 = pd.DataFrame(list(cursor))\n",
    "print (df2)\n",
    "\n"
   ]
  },
  {
   "cell_type": "markdown",
   "metadata": {},
   "source": [
    "# piao（判断票据）数据库"
   ]
  },
  {
   "cell_type": "markdown",
   "metadata": {},
   "source": [
    "## 读取 "
   ]
  },
  {
   "cell_type": "code",
   "execution_count": null,
   "metadata": {},
   "outputs": [],
   "source": [
    "# -*- coding: cp936 -*-\n",
    "import datetime\n",
    "import json,csv,re\n",
    "import pandas as pd\n",
    "from pymongo import MongoClient\n",
    "\n",
    "\n",
    "\n",
    "\n",
    "\n",
    "client=MongoClient('mongodb://root:' + '5768116' + '@139.196.79.93')\n",
    "\n",
    "db = client.piao\n",
    "collection = db.piao\n",
    "    # Make a query to the specific DB and Collection\n",
    "cursor = collection.find()\n",
    "df2 = pd.DataFrame(list(cursor))\n",
    "piao_df=df2[['xuhao','ci','shou','chu','shoudai','chudai','shouhui','chuhui']]\n",
    "piao_df=piao_df.set_index('xuhao')\n",
    "piao_df=piao_df.sort_index(ascending=True)\n",
    "#print (piao_df.astype(str).ix[1,['ci']].strip())\n",
    "c=piao_df.astype(str).loc[163,'ci'].strip()\n",
    "print(c)\n",
    "print(piao_df)\n"
   ]
  },
  {
   "cell_type": "markdown",
   "metadata": {},
   "source": [
    "## 从CSV导入 "
   ]
  },
  {
   "cell_type": "code",
   "execution_count": null,
   "metadata": {},
   "outputs": [],
   "source": [
    "# -*- coding: cp936 -*-\n",
    "import datetime\n",
    "import json,csv\n",
    "import pandas as pd\n",
    "\n",
    "from pymongo import MongoClient\n",
    "client=MongoClient('mongodb://root:' + '5768116' + '@139.196.79.93')\n",
    "\n",
    "#client = MongoClient()\n",
    "#client = MongoClient('139.196.79.93', 27017)  #建立连接\n",
    "\n",
    "#db=client.authenticate(\"root\",\"5768116\",mechanism=\"SCRAM-SHA-1\").piao\n",
    "db = client.piao           #得到数据库\n",
    "#db.authenticate(\"admin\", \"5768116\")\n",
    "collection = db.piao      #得到数据集合\n",
    "\n",
    "\n",
    "#df = read_mongo(db, 'collection')\n",
    "#df = pd.DataFrame.from_dict({u'时间': {datetime.datetime.now()},u'交易对手':{111}})\n",
    "url='piao.csv'\n",
    "df = pd.read_table(url,sep=',',encoding='GB18030')   #用dictreader根据行内容查找\n",
    "\n",
    "print (df)      \n",
    "#print collection\n",
    "records = json.loads(df.T.to_json()).values()\n",
    "collection.insert(records)\n",
    "\n",
    "    # Make a query to the specific DB and Collection\n",
    "cursor = collection.find()\n",
    "df2 = pd.DataFrame(list(cursor))\n",
    "print (df2)\n",
    "\n",
    "\n",
    "#post = {\"author\": \"Mike33\", \"text\": \"My first blog post!\",\"tags\": [\"mongodb\", \"python\", \"pymongo\"],\"date\": datetime.datetime.utcnow()}\n",
    "#posts = db.posts\n",
    "#post_id = posts.insert_one(post).inserted_id\n",
    "#print post_id\n",
    "#print posts.find_one()\n",
    "#print posts.find_one({\"author\": \"Mike33\"})\n",
    "#print posts.count()\n",
    "#print post.find()\n"
   ]
  },
  {
   "cell_type": "markdown",
   "metadata": {},
   "source": [
    "## 删除 "
   ]
  },
  {
   "cell_type": "code",
   "execution_count": null,
   "metadata": {},
   "outputs": [],
   "source": [
    "# -*- coding: cp936 -*-\n",
    "import json,csv,re,time,datetime\n",
    "import pandas as pd\n",
    "from pymongo import MongoClient\n",
    "\n",
    "client=MongoClient('mongodb://root:' + '5768116' + '@139.196.79.93')\n",
    "db = client.piao\n",
    "collection = db.piao\n",
    "\n",
    "\n",
    "\n",
    "\n",
    "collection.remove()\n"
   ]
  },
  {
   "cell_type": "markdown",
   "metadata": {},
   "source": [
    "# piaofen（微信群消息原始数据）数据库"
   ]
  },
  {
   "cell_type": "markdown",
   "metadata": {},
   "source": [
    "## 读取"
   ]
  },
  {
   "cell_type": "code",
   "execution_count": 2,
   "metadata": {},
   "outputs": [
    {
     "name": "stdout",
     "output_type": "stream",
     "text": [
      "727\n"
     ]
    }
   ],
   "source": [
    "# -*- coding: cp936 -*-\n",
    "import json,re,time,datetime\n",
    "import csv,xlrd,xlwt\n",
    "\n",
    "import pandas as pd\n",
    "from pymongo import MongoClient\n",
    "\n",
    "client=MongoClient('mongodb://root:' + '5768116' + '@121.196.220.14')\n",
    "db = client.piaofen\n",
    "collection = db.piaofen\n",
    "\n",
    "#cursor = collection.find({'time':{'$gte':'2018-11-21'}})      #选出中资讯数据库\n",
    "cursor = collection.find({\"$and\":[{'time':{'$gte':'2019-06-03'}}\n",
    "                                                    ]})      #选出中资讯数据库\n",
    "\n",
    "df2 = pd.DataFrame(list(cursor))\n",
    "\n",
    "\n",
    "\n",
    "#print(df2)\n",
    "if df2.empty:\n",
    "    print('11111111')\n",
    "\n",
    "else:\n",
    "    print(len(df2))\n",
    "  #  df2=df2[['nickname','hanglei1','hanglei2','hanglei3','time','time2']]\n",
    "  #  df2=df2.drop_duplicates('nickname', keep='last')  #删除重复值\n",
    "\n",
    "    df2.to_excel('ui.xls')"
   ]
  },
  {
   "cell_type": "markdown",
   "metadata": {},
   "source": [
    "## 从CSV导入"
   ]
  },
  {
   "cell_type": "code",
   "execution_count": null,
   "metadata": {},
   "outputs": [],
   "source": [
    "# -*- coding: cp936 -*-\n",
    "import datetime\n",
    "import json,csv\n",
    "import pandas as pd\n",
    "\n",
    "from pymongo import MongoClient\n",
    "client = MongoClient()\n",
    "client=MongoClient('mongodb://root:' + '5768116' + '@139.196.79.93')\n",
    "db = client.piaofen          #得到数据库\n",
    "collection = db.piaofen      #得到数据集合\n",
    "\n",
    "\n",
    "#df = read_mongo(db, 'collection')\n",
    "#df = pd.DataFrame.from_dict({u'时间': {datetime.datetime.now()},u'交易对手':{111}})\n",
    "url='record.csv'\n",
    "df = pd.read_table(url,sep=',',encoding='GB18030')   #用dictreader根据行内容查找\n",
    "\n",
    "print(df)      \n",
    "#print collection\n",
    "records = json.loads(df.T.to_json()).values()\n",
    "collection.insert(records)\n",
    "\n",
    "    # Make a query to the specific DB and Collection\n",
    "cursor = collection.find()\n",
    "df2 = pd.DataFrame(list(cursor))\n",
    "print(df2)\n",
    "\n",
    "\n",
    "#post = {\"author\": \"Mike33\", \"text\": \"My first blog post!\",\"tags\": [\"mongodb\", \"python\", \"pymongo\"],\"date\": datetime.datetime.utcnow()}\n",
    "#posts = db.posts\n",
    "#post_id = posts.insert_one(post).inserted_id\n",
    "#print post_id\n",
    "#print posts.find_one()\n",
    "#print posts.find_one({\"author\": \"Mike33\"})\n",
    "#print posts.count()\n",
    "#print post.find()\n"
   ]
  },
  {
   "cell_type": "markdown",
   "metadata": {},
   "source": [
    "## 删除数据库 "
   ]
  },
  {
   "cell_type": "code",
   "execution_count": 1,
   "metadata": {},
   "outputs": [
    {
     "data": {
      "text/plain": [
       "{'n': 1, 'connectionId': 7186, 'err': None, 'ok': 1.0}"
      ]
     },
     "execution_count": 1,
     "metadata": {},
     "output_type": "execute_result"
    }
   ],
   "source": [
    "# -*- coding: cp936 -*-\n",
    "import json,csv,re,time,datetime\n",
    "import pandas as pd\n",
    "from pymongo import MongoClient\n",
    "\n",
    "client=MongoClient('mongodb://root:' + '5768116' + '@121.196.220.14')\n",
    "db = client.piaofen\n",
    "collection = db.piaofen\n",
    "\n",
    "collection.remove({ \"$and\":[{'time':'2019-06-19'},{'nickname':'浙江邮储杨炳'}]})  #删除早于该时间点的数据\n",
    "\n",
    "#collection.remove({'time':{'$lte':'2019-04-20'}})  #删除早于该时间点的数据\n"
   ]
  },
  {
   "cell_type": "markdown",
   "metadata": {},
   "source": []
  },
  {
   "cell_type": "markdown",
   "metadata": {},
   "source": [
    "# piaofenxi（微信群消息分析）数据库"
   ]
  },
  {
   "cell_type": "markdown",
   "metadata": {},
   "source": [
    "## 从piaofen数据库提取piaofenxi "
   ]
  },
  {
   "cell_type": "code",
   "execution_count": null,
   "metadata": {},
   "outputs": [],
   "source": [
    "# -*- coding: cp936 -*-\n",
    "# -*- coding: utf-8 -*-\n",
    "import pandas as pd\n",
    "import time,datetime\n",
    "import matplotlib.pyplot as plt\n",
    "import numpy as np\n",
    "from pandas import DataFrame\n",
    "import os\n",
    "import csv,json\n",
    "from pymongo import MongoClient\n",
    "from matplotlib.font_manager import FontProperties  \n",
    "font_set = FontProperties(fname=r\"c:\\windows\\fonts\\simsun.ttc\", size=12) #用于在散点图中输出中文\n",
    "font_set2 = FontProperties(fname=r\"c:\\windows\\fonts\\simsun.ttc\", size=9) #用于在散点图中输出中文\n",
    "\n",
    "#client = MongoClient()\n",
    "client=MongoClient('mongodb://root:' + '5768116' + '@139.196.79.93')\n",
    "\n",
    "\n",
    "db5 = client.piaofen\n",
    "collection5 = db5.piaofen\n",
    "\n",
    "db6 = client.piaofenxi\n",
    "collection6 = db6.piaofenxi\n",
    "\n",
    "\n",
    "#选时间\n",
    "shijian=time.strftime('%H:%M',time.localtime(time.time()))\n",
    "shijian2=time.strftime('%Y-%m-%d',time.localtime(time.time()))\n",
    "\n",
    "shijian2 = datetime.datetime.strptime(shijian2, \"%Y-%m-%d\")\n",
    "\n",
    "shijian3=shijian2-datetime.timedelta(days=1)\n",
    "shijian4=shijian2-datetime.timedelta(days=2)\n",
    "shijian5=shijian2-datetime.timedelta(days=30)\n",
    "\n",
    "shijian2=str(shijian2.strftime(\"%Y-%m-%d\"))\n",
    "\n",
    "shijian3=str(shijian3.strftime(\"%Y-%m-%d\"))\n",
    "shijian4=str(shijian4.strftime(\"%Y-%m-%d\"))\n",
    "shijian5=str(shijian5.strftime(\"%Y-%m-%d\"))\n",
    "\n",
    "shijian=str(shijian)\n",
    "print(shijian)\n",
    "\n",
    "\n",
    "cursor = collection5.find()\n",
    "present_time = pd.DataFrame(list(cursor))\n",
    "\n",
    "\n",
    "\n",
    "#制作两个表格              \n",
    "huatudata3=present_time[['time','hanglei1','hanglei2','shou','chu','shoudai','chudai']]\n",
    "huatudata4=huatudata3.groupby(['time','hanglei1']).sum()\n",
    "\n",
    "print(huatudata4)\n",
    "\n",
    "\n",
    "huatudata4.to_csv('cd.csv')\n",
    "\n"
   ]
  },
  {
   "cell_type": "markdown",
   "metadata": {},
   "source": [
    "## 读取"
   ]
  },
  {
   "cell_type": "code",
   "execution_count": null,
   "metadata": {},
   "outputs": [],
   "source": [
    "# -*- coding: cp936 -*-\n",
    "import datetime\n",
    "import json,csv\n",
    "import pandas as pd\n",
    "\n",
    "from pymongo import MongoClient\n",
    "client=MongoClient('mongodb://root:' + '5768116' + '@121.196.220.14')\n",
    "db = client.piaofenxi         #得到数据库\n",
    "collection = db.piaofenxi      #得到数据集合\n",
    "\n",
    "\n",
    "\n",
    "cursor = collection.find()\n",
    "df2 = pd.DataFrame(list(cursor))\n",
    "print(df2)\n",
    "\n",
    "df2.to_csv('4.csv',encoding='GB18030',mode='w',header=True)\n"
   ]
  },
  {
   "cell_type": "markdown",
   "metadata": {},
   "source": [
    "## 从CSV导入 "
   ]
  },
  {
   "cell_type": "code",
   "execution_count": null,
   "metadata": {},
   "outputs": [],
   "source": [
    "# -*- coding: cp936 -*-\n",
    "import datetime\n",
    "import json,csv\n",
    "import pandas as pd\n",
    "\n",
    "from pymongo import MongoClient\n",
    "client=MongoClient('mongodb://root:' + '5768116' + '@139.196.79.93')\n",
    "db = client.piaofenxi         #得到数据库\n",
    "collection = db.piaofenxi      #得到数据集合\n",
    "\n",
    "\n",
    "#df = read_mongo(db, 'collection')\n",
    "#df = pd.DataFrame.from_dict({u'时间': {datetime.datetime.now()},u'交易对手':{111}})\n",
    "url='1.csv'\n",
    "df = pd.read_table(url,sep=',',encoding='GB18030')   #用dictreader根据行内容查找\n",
    "\n",
    "print(df)      \n",
    "#print collection\n",
    "records = json.loads(df.T.to_json()).values()\n",
    "collection.insert(records)\n",
    "\n",
    "    # Make a query to the specific DB and Collection\n",
    "cursor = collection.find()\n",
    "df2 = pd.DataFrame(list(cursor))\n",
    "print(df2)\n",
    "\n"
   ]
  },
  {
   "cell_type": "markdown",
   "metadata": {},
   "source": [
    "## 删除数据库"
   ]
  },
  {
   "cell_type": "code",
   "execution_count": null,
   "metadata": {},
   "outputs": [],
   "source": [
    "# -*- coding: cp936 -*-\n",
    "import json,csv,re,time,datetime\n",
    "import pandas as pd\n",
    "from pymongo import MongoClient\n",
    "\n",
    "client=MongoClient('mongodb://root:' + '5768116' + '@139.196.79.93')\n",
    "db = client.piaofenxi\n",
    "collection = db.piaofenxi\n",
    "\n",
    "\n",
    "#collection.remove({'统计日期':{'$lte':'2018-04-25'}})  #删除早于该时间点的数据\n",
    "collection.remove()  #删除早于该时间点的数据\n",
    "#collection.remove({'统计日期':{'$gte':'2018-09-17'}})  #删除早于该时间点的数据\n",
    "#collection.remove({'统计日期':''})  #删除早于该时间点的数据\n"
   ]
  },
  {
   "cell_type": "code",
   "execution_count": null,
   "metadata": {},
   "outputs": [],
   "source": []
  }
 ],
 "metadata": {
  "kernelspec": {
   "display_name": "Python 3",
   "language": "python",
   "name": "python3"
  },
  "language_info": {
   "codemirror_mode": {
    "name": "ipython",
    "version": 3
   },
   "file_extension": ".py",
   "mimetype": "text/x-python",
   "name": "python",
   "nbconvert_exporter": "python",
   "pygments_lexer": "ipython3",
   "version": "3.7.0"
  },
  "toc": {
   "base_numbering": 1,
   "nav_menu": {},
   "number_sections": true,
   "sideBar": true,
   "skip_h1_title": false,
   "title_cell": "Table of Contents",
   "title_sidebar": "Contents",
   "toc_cell": false,
   "toc_position": {
    "height": "calc(100% - 180px)",
    "left": "10px",
    "top": "150px",
    "width": "296px"
   },
   "toc_section_display": true,
   "toc_window_display": true
  }
 },
 "nbformat": 4,
 "nbformat_minor": 2
}
